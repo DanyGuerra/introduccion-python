{
 "cells": [
  {
   "cell_type": "markdown",
   "source": [
    "# Este es un ejemplo de como usar Jupyter Notebook\r\n",
    "## Introduccion a Python"
   ],
   "metadata": {}
  },
  {
   "cell_type": "code",
   "execution_count": 2,
   "source": [
    "mensaje=\"Hola mundo\"\r\n",
    "print(mensaje)"
   ],
   "outputs": [
    {
     "output_type": "stream",
     "name": "stdout",
     "text": [
      "Hola mundo\n"
     ]
    }
   ],
   "metadata": {}
  }
 ],
 "metadata": {
  "orig_nbformat": 4,
  "language_info": {
   "name": "python"
  }
 },
 "nbformat": 4,
 "nbformat_minor": 2
}